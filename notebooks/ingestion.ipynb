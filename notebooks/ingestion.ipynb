{
 "cells": [
  {
   "cell_type": "code",
   "execution_count": null,
   "id": "278ca9ec",
   "metadata": {},
   "outputs": [],
   "source": [
    "from openaq import OpenAQ\n",
    "import os"
   ]
  },
  {
   "cell_type": "code",
   "execution_count": null,
   "id": "ef870d16",
   "metadata": {},
   "outputs": [],
   "source": [
    "API_KEY = os.getenv(\"MY_API_KEY\")\n",
    "location = client.locations.get(2178)\n",
    "client.close()\n",
    "print(location)"
   ]
  }
 ],
 "metadata": {
  "language_info": {
   "name": "python"
  }
 },
 "nbformat": 4,
 "nbformat_minor": 5
}
